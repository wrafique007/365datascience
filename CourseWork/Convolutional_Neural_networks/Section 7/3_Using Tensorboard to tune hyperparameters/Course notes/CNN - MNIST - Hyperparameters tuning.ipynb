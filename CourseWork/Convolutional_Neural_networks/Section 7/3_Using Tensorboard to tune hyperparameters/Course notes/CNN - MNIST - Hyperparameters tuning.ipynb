{
 "cells": [
  {
   "cell_type": "code",
   "execution_count": 1,
   "metadata": {
    "colab": {
     "base_uri": "https://localhost:8080/",
     "height": 530
    },
    "colab_type": "code",
    "id": "Rlp5wUW_FDmH",
    "outputId": "375cb352-57f9-4bc4-aa5b-8a9824e8cad2"
   },
   "outputs": [
    {
     "name": "stdout",
     "output_type": "stream",
     "text": [
      "WARNING:tensorflow:From C:\\Users\\muham\\AppData\\Local\\Packages\\PythonSoftwareFoundation.Python.3.11_qbz5n2kfra8p0\\LocalCache\\local-packages\\Python311\\site-packages\\keras\\src\\losses.py:2976: The name tf.losses.sparse_softmax_cross_entropy is deprecated. Please use tf.compat.v1.losses.sparse_softmax_cross_entropy instead.\n",
      "\n"
     ]
    },
    {
     "name": "stderr",
     "output_type": "stream",
     "text": [
      "C:\\Users\\muham\\AppData\\Local\\Packages\\PythonSoftwareFoundation.Python.3.11_qbz5n2kfra8p0\\LocalCache\\local-packages\\Python311\\site-packages\\tqdm\\auto.py:21: TqdmWarning: IProgress not found. Please update jupyter and ipywidgets. See https://ipywidgets.readthedocs.io/en/stable/user_install.html\n",
      "  from .autonotebook import tqdm as notebook_tqdm\n"
     ]
    }
   ],
   "source": [
    "# Importing the relevant packages\n",
    "import tensorflow as tf\n",
    "import tensorflow_datasets as tfds\n",
    "from tensorboard.plugins.hparams import api as hp"
   ]
  },
  {
   "cell_type": "markdown",
   "metadata": {},
   "source": [
    "## Downloading and preprocessing the data"
   ]
  },
  {
   "cell_type": "code",
   "execution_count": 2,
   "metadata": {
    "colab": {
     "base_uri": "https://localhost:8080/",
     "height": 173
    },
    "colab_type": "code",
    "id": "9S6uGLzkFDmP",
    "outputId": "6a5bad6b-035f-4f2e-a81c-8015e17001f4"
   },
   "outputs": [],
   "source": [
    "# Defining some constants/hyperparameters\n",
    "BUFFER_SIZE = 70_000 # for reshuffling\n",
    "BATCH_SIZE = 128\n",
    "NUM_EPOCHS = 20"
   ]
  },
  {
   "cell_type": "code",
   "execution_count": 3,
   "metadata": {
    "colab": {
     "base_uri": "https://localhost:8080/",
     "height": 173
    },
    "colab_type": "code",
    "id": "9S6uGLzkFDmP",
    "outputId": "6a5bad6b-035f-4f2e-a81c-8015e17001f4"
   },
   "outputs": [],
   "source": [
    "# Downloading the MNIST dataset\n",
    "mnist_dataset, mnist_info = tfds.load(name='mnist', with_info=True, as_supervised=True)"
   ]
  },
  {
   "cell_type": "code",
   "execution_count": 4,
   "metadata": {
    "colab": {
     "base_uri": "https://localhost:8080/",
     "height": 173
    },
    "colab_type": "code",
    "id": "9S6uGLzkFDmP",
    "outputId": "6a5bad6b-035f-4f2e-a81c-8015e17001f4"
   },
   "outputs": [],
   "source": [
    "mnist_train, mnist_test = mnist_dataset['train'], mnist_dataset['test']"
   ]
  },
  {
   "cell_type": "code",
   "execution_count": 5,
   "metadata": {
    "colab": {
     "base_uri": "https://localhost:8080/",
     "height": 173
    },
    "colab_type": "code",
    "id": "9S6uGLzkFDmP",
    "outputId": "6a5bad6b-035f-4f2e-a81c-8015e17001f4"
   },
   "outputs": [],
   "source": [
    "# Creating a function to scale our data\n",
    "def scale(image, label):\n",
    "    image = tf.cast(image, tf.float32)\n",
    "    image /= 255.\n",
    "\n",
    "    return image, label"
   ]
  },
  {
   "cell_type": "code",
   "execution_count": 6,
   "metadata": {},
   "outputs": [],
   "source": [
    "# Scaling the data\n",
    "train_and_validation_data = mnist_train.map(scale)\n",
    "test_data = mnist_test.map(scale)"
   ]
  },
  {
   "cell_type": "code",
   "execution_count": 7,
   "metadata": {
    "colab": {
     "base_uri": "https://localhost:8080/",
     "height": 173
    },
    "colab_type": "code",
    "id": "9S6uGLzkFDmP",
    "outputId": "6a5bad6b-035f-4f2e-a81c-8015e17001f4"
   },
   "outputs": [],
   "source": [
    "# Defining the size of the validation set\n",
    "num_validation_samples = 0.1 * mnist_info.splits['train'].num_examples\n",
    "num_validation_samples = tf.cast(num_validation_samples, tf.int64)"
   ]
  },
  {
   "cell_type": "code",
   "execution_count": 8,
   "metadata": {
    "colab": {
     "base_uri": "https://localhost:8080/",
     "height": 173
    },
    "colab_type": "code",
    "id": "9S6uGLzkFDmP",
    "outputId": "6a5bad6b-035f-4f2e-a81c-8015e17001f4"
   },
   "outputs": [],
   "source": [
    "# Defining the size of the test set\n",
    "num_test_samples = mnist_info.splits['test'].num_examples\n",
    "num_test_samples = tf.cast(num_test_samples, tf.int64)"
   ]
  },
  {
   "cell_type": "code",
   "execution_count": 9,
   "metadata": {
    "colab": {
     "base_uri": "https://localhost:8080/",
     "height": 173
    },
    "colab_type": "code",
    "id": "9S6uGLzkFDmP",
    "outputId": "6a5bad6b-035f-4f2e-a81c-8015e17001f4"
   },
   "outputs": [],
   "source": [
    "# Reshuffling the dataset\n",
    "train_and_validation_data = train_and_validation_data.shuffle(BUFFER_SIZE)"
   ]
  },
  {
   "cell_type": "code",
   "execution_count": 10,
   "metadata": {
    "colab": {
     "base_uri": "https://localhost:8080/",
     "height": 173
    },
    "colab_type": "code",
    "id": "9S6uGLzkFDmP",
    "outputId": "6a5bad6b-035f-4f2e-a81c-8015e17001f4"
   },
   "outputs": [],
   "source": [
    "# Splitting the dataset into trainig + validation\n",
    "train_data = train_and_validation_data.skip(num_validation_samples)\n",
    "validation_data = train_and_validation_data.take(num_validation_samples)"
   ]
  },
  {
   "cell_type": "code",
   "execution_count": 11,
   "metadata": {
    "colab": {
     "base_uri": "https://localhost:8080/",
     "height": 173
    },
    "colab_type": "code",
    "id": "9S6uGLzkFDmP",
    "outputId": "6a5bad6b-035f-4f2e-a81c-8015e17001f4"
   },
   "outputs": [],
   "source": [
    "# Batching the data\n",
    "train_data = train_data.batch(BATCH_SIZE)\n",
    "validation_data = validation_data.batch(num_validation_samples)\n",
    "test_data = mnist_test.map(scale).batch(num_test_samples)"
   ]
  },
  {
   "cell_type": "markdown",
   "metadata": {},
   "source": [
    "## Defining hyperparameters"
   ]
  },
  {
   "cell_type": "code",
   "execution_count": 12,
   "metadata": {},
   "outputs": [],
   "source": [
    "# Defining the hypermatarest we would test and their range\n",
    "HP_FILTER_SIZE = hp.HParam('filter_size', hp.Discrete([3,5,7]))\n",
    "HP_OPTIMIZER = hp.HParam('optimizer', hp.Discrete(['adam', 'sgd']))\n",
    "\n",
    "METRIC_ACCURACY = 'accuracy'\n",
    "\n",
    "# Logging setup info\n",
    "with tf.summary.create_file_writer('logs/hparam_tuning').as_default():\n",
    "    hp.hparams_config(\n",
    "        hparams=[HP_FILTER_SIZE, HP_OPTIMIZER],\n",
    "        metrics=[hp.Metric(METRIC_ACCURACY, display_name='Accuracy')],\n",
    "    )"
   ]
  },
  {
   "cell_type": "markdown",
   "metadata": {},
   "source": [
    "## Cerating functions for training our model and for logging purposes"
   ]
  },
  {
   "cell_type": "code",
   "execution_count": 13,
   "metadata": {
    "colab": {
     "base_uri": "https://localhost:8080/",
     "height": 173
    },
    "colab_type": "code",
    "id": "9S6uGLzkFDmP",
    "outputId": "6a5bad6b-035f-4f2e-a81c-8015e17001f4"
   },
   "outputs": [],
   "source": [
    "# Wrapping our model and training in a function\n",
    "def train_test_model(hparams):\n",
    "    \n",
    "    # Outlining the model/architecture of our CNN\n",
    "    model = tf.keras.Sequential([\n",
    "        tf.keras.layers.Conv2D(50, hparams[HP_FILTER_SIZE], activation='relu', input_shape=(28, 28, 1)),\n",
    "        tf.keras.layers.MaxPooling2D(pool_size=(2,2)),\n",
    "        tf.keras.layers.Conv2D(50, hparams[HP_FILTER_SIZE], activation='relu'),\n",
    "        tf.keras.layers.MaxPooling2D(pool_size=(2,2)), \n",
    "        tf.keras.layers.Flatten(),\n",
    "        tf.keras.layers.Dense(10)\n",
    "    ])\n",
    "    \n",
    "    # Defining the loss function\n",
    "    loss_fn = tf.keras.losses.SparseCategoricalCrossentropy(from_logits=True)\n",
    "\n",
    "    # Compiling the model with parameter value for the optimizer\n",
    "    model.compile(optimizer=hparams[HP_OPTIMIZER], loss=loss_fn, metrics=['accuracy'])\n",
    "    \n",
    "    # Defining early stopping to prevent overfitting\n",
    "    early_stopping = tf.keras.callbacks.EarlyStopping(\n",
    "        monitor = 'val_loss',\n",
    "        mode = 'auto',\n",
    "        min_delta = 0,\n",
    "        patience = 2,\n",
    "        verbose = 0, \n",
    "        restore_best_weights = True\n",
    "    )\n",
    "    \n",
    "    # Training the model\n",
    "    model.fit(\n",
    "        train_data, \n",
    "        epochs = NUM_EPOCHS,\n",
    "        callbacks = [early_stopping],\n",
    "        validation_data = validation_data,\n",
    "        verbose = 2\n",
    "    )\n",
    "    \n",
    "    _, accuracy = model.evaluate(test_data)\n",
    "    \n",
    "    return accuracy"
   ]
  },
  {
   "cell_type": "code",
   "execution_count": 14,
   "metadata": {},
   "outputs": [],
   "source": [
    "# Creating a function to log the resuls\n",
    "def run(log_dir, hparams):\n",
    "    \n",
    "    with tf.summary.create_file_writer(log_dir).as_default():\n",
    "        hp.hparams(hparams)  # record the values used in this trial\n",
    "        accuracy = train_test_model(hparams)\n",
    "        tf.summary.scalar(METRIC_ACCURACY, accuracy, step=1)"
   ]
  },
  {
   "cell_type": "markdown",
   "metadata": {},
   "source": [
    "## Training the model with the different hyperparameters"
   ]
  },
  {
   "cell_type": "code",
   "execution_count": 15,
   "metadata": {},
   "outputs": [
    {
     "name": "stdout",
     "output_type": "stream",
     "text": [
      "--- Starting trial: run-0\n",
      "{'filter_size': 3, 'optimizer': 'adam'}\n",
      "WARNING:tensorflow:From C:\\Users\\muham\\AppData\\Local\\Packages\\PythonSoftwareFoundation.Python.3.11_qbz5n2kfra8p0\\LocalCache\\local-packages\\Python311\\site-packages\\keras\\src\\backend.py:873: The name tf.get_default_graph is deprecated. Please use tf.compat.v1.get_default_graph instead.\n",
      "\n"
     ]
    },
    {
     "name": "stderr",
     "output_type": "stream",
     "text": [
      "WARNING:tensorflow:From C:\\Users\\muham\\AppData\\Local\\Packages\\PythonSoftwareFoundation.Python.3.11_qbz5n2kfra8p0\\LocalCache\\local-packages\\Python311\\site-packages\\keras\\src\\backend.py:873: The name tf.get_default_graph is deprecated. Please use tf.compat.v1.get_default_graph instead.\n",
      "\n"
     ]
    },
    {
     "name": "stdout",
     "output_type": "stream",
     "text": [
      "WARNING:tensorflow:From C:\\Users\\muham\\AppData\\Local\\Packages\\PythonSoftwareFoundation.Python.3.11_qbz5n2kfra8p0\\LocalCache\\local-packages\\Python311\\site-packages\\keras\\src\\layers\\pooling\\max_pooling2d.py:161: The name tf.nn.max_pool is deprecated. Please use tf.nn.max_pool2d instead.\n",
      "\n"
     ]
    },
    {
     "name": "stderr",
     "output_type": "stream",
     "text": [
      "WARNING:tensorflow:From C:\\Users\\muham\\AppData\\Local\\Packages\\PythonSoftwareFoundation.Python.3.11_qbz5n2kfra8p0\\LocalCache\\local-packages\\Python311\\site-packages\\keras\\src\\layers\\pooling\\max_pooling2d.py:161: The name tf.nn.max_pool is deprecated. Please use tf.nn.max_pool2d instead.\n",
      "\n"
     ]
    },
    {
     "name": "stdout",
     "output_type": "stream",
     "text": [
      "WARNING:tensorflow:From C:\\Users\\muham\\AppData\\Local\\Packages\\PythonSoftwareFoundation.Python.3.11_qbz5n2kfra8p0\\LocalCache\\local-packages\\Python311\\site-packages\\keras\\src\\optimizers\\__init__.py:309: The name tf.train.Optimizer is deprecated. Please use tf.compat.v1.train.Optimizer instead.\n",
      "\n"
     ]
    },
    {
     "name": "stderr",
     "output_type": "stream",
     "text": [
      "WARNING:tensorflow:From C:\\Users\\muham\\AppData\\Local\\Packages\\PythonSoftwareFoundation.Python.3.11_qbz5n2kfra8p0\\LocalCache\\local-packages\\Python311\\site-packages\\keras\\src\\optimizers\\__init__.py:309: The name tf.train.Optimizer is deprecated. Please use tf.compat.v1.train.Optimizer instead.\n",
      "\n"
     ]
    },
    {
     "name": "stdout",
     "output_type": "stream",
     "text": [
      "Epoch 1/20\n",
      "WARNING:tensorflow:From C:\\Users\\muham\\AppData\\Local\\Packages\\PythonSoftwareFoundation.Python.3.11_qbz5n2kfra8p0\\LocalCache\\local-packages\\Python311\\site-packages\\keras\\src\\utils\\tf_utils.py:492: The name tf.ragged.RaggedTensorValue is deprecated. Please use tf.compat.v1.ragged.RaggedTensorValue instead.\n",
      "\n"
     ]
    },
    {
     "name": "stderr",
     "output_type": "stream",
     "text": [
      "WARNING:tensorflow:From C:\\Users\\muham\\AppData\\Local\\Packages\\PythonSoftwareFoundation.Python.3.11_qbz5n2kfra8p0\\LocalCache\\local-packages\\Python311\\site-packages\\keras\\src\\utils\\tf_utils.py:492: The name tf.ragged.RaggedTensorValue is deprecated. Please use tf.compat.v1.ragged.RaggedTensorValue instead.\n",
      "\n"
     ]
    },
    {
     "name": "stdout",
     "output_type": "stream",
     "text": [
      "WARNING:tensorflow:From C:\\Users\\muham\\AppData\\Local\\Packages\\PythonSoftwareFoundation.Python.3.11_qbz5n2kfra8p0\\LocalCache\\local-packages\\Python311\\site-packages\\keras\\src\\engine\\base_layer_utils.py:384: The name tf.executing_eagerly_outside_functions is deprecated. Please use tf.compat.v1.executing_eagerly_outside_functions instead.\n",
      "\n"
     ]
    },
    {
     "name": "stderr",
     "output_type": "stream",
     "text": [
      "WARNING:tensorflow:From C:\\Users\\muham\\AppData\\Local\\Packages\\PythonSoftwareFoundation.Python.3.11_qbz5n2kfra8p0\\LocalCache\\local-packages\\Python311\\site-packages\\keras\\src\\engine\\base_layer_utils.py:384: The name tf.executing_eagerly_outside_functions is deprecated. Please use tf.compat.v1.executing_eagerly_outside_functions instead.\n",
      "\n"
     ]
    },
    {
     "name": "stdout",
     "output_type": "stream",
     "text": [
      "422/422 - 14s - loss: 0.2872 - accuracy: 0.9166 - val_loss: 0.0932 - val_accuracy: 0.9690 - 14s/epoch - 34ms/step\n",
      "Epoch 2/20\n",
      "422/422 - 12s - loss: 0.0768 - accuracy: 0.9771 - val_loss: 0.0589 - val_accuracy: 0.9813 - 12s/epoch - 28ms/step\n",
      "Epoch 3/20\n",
      "422/422 - 12s - loss: 0.0567 - accuracy: 0.9827 - val_loss: 0.0413 - val_accuracy: 0.9872 - 12s/epoch - 28ms/step\n",
      "Epoch 4/20\n",
      "422/422 - 12s - loss: 0.0456 - accuracy: 0.9859 - val_loss: 0.0279 - val_accuracy: 0.9923 - 12s/epoch - 28ms/step\n",
      "Epoch 5/20\n",
      "422/422 - 12s - loss: 0.0387 - accuracy: 0.9884 - val_loss: 0.0296 - val_accuracy: 0.9908 - 12s/epoch - 28ms/step\n",
      "Epoch 6/20\n",
      "422/422 - 12s - loss: 0.0333 - accuracy: 0.9898 - val_loss: 0.0283 - val_accuracy: 0.9917 - 12s/epoch - 28ms/step\n",
      "1/1 [==============================] - 1s 1s/step - loss: 0.0361 - accuracy: 0.9876\n",
      "--- Starting trial: run-1\n",
      "{'filter_size': 3, 'optimizer': 'sgd'}\n",
      "Epoch 1/20\n",
      "422/422 - 13s - loss: 1.4416 - accuracy: 0.6242 - val_loss: 0.4938 - val_accuracy: 0.8648 - 13s/epoch - 31ms/step\n",
      "Epoch 2/20\n",
      "422/422 - 12s - loss: 0.3797 - accuracy: 0.8912 - val_loss: 0.3060 - val_accuracy: 0.9117 - 12s/epoch - 28ms/step\n",
      "Epoch 3/20\n",
      "422/422 - 12s - loss: 0.2806 - accuracy: 0.9187 - val_loss: 0.2462 - val_accuracy: 0.9277 - 12s/epoch - 29ms/step\n",
      "Epoch 4/20\n",
      "422/422 - 13s - loss: 0.2281 - accuracy: 0.9341 - val_loss: 0.1880 - val_accuracy: 0.9445 - 13s/epoch - 31ms/step\n",
      "Epoch 5/20\n",
      "422/422 - 12s - loss: 0.1917 - accuracy: 0.9438 - val_loss: 0.1796 - val_accuracy: 0.9500 - 12s/epoch - 29ms/step\n",
      "Epoch 6/20\n",
      "422/422 - 12s - loss: 0.1670 - accuracy: 0.9521 - val_loss: 0.1581 - val_accuracy: 0.9550 - 12s/epoch - 29ms/step\n",
      "Epoch 7/20\n",
      "422/422 - 12s - loss: 0.1505 - accuracy: 0.9565 - val_loss: 0.1281 - val_accuracy: 0.9610 - 12s/epoch - 29ms/step\n",
      "Epoch 8/20\n",
      "422/422 - 12s - loss: 0.1357 - accuracy: 0.9608 - val_loss: 0.1176 - val_accuracy: 0.9665 - 12s/epoch - 29ms/step\n",
      "Epoch 9/20\n",
      "422/422 - 12s - loss: 0.1247 - accuracy: 0.9641 - val_loss: 0.1223 - val_accuracy: 0.9662 - 12s/epoch - 29ms/step\n",
      "Epoch 10/20\n",
      "422/422 - 12s - loss: 0.1151 - accuracy: 0.9668 - val_loss: 0.1061 - val_accuracy: 0.9678 - 12s/epoch - 28ms/step\n",
      "Epoch 11/20\n",
      "422/422 - 12s - loss: 0.1081 - accuracy: 0.9680 - val_loss: 0.1136 - val_accuracy: 0.9680 - 12s/epoch - 29ms/step\n",
      "Epoch 12/20\n",
      "422/422 - 12s - loss: 0.0998 - accuracy: 0.9704 - val_loss: 0.0991 - val_accuracy: 0.9710 - 12s/epoch - 28ms/step\n",
      "Epoch 13/20\n",
      "422/422 - 12s - loss: 0.0979 - accuracy: 0.9714 - val_loss: 0.0933 - val_accuracy: 0.9730 - 12s/epoch - 28ms/step\n",
      "Epoch 14/20\n",
      "422/422 - 12s - loss: 0.0926 - accuracy: 0.9730 - val_loss: 0.0898 - val_accuracy: 0.9735 - 12s/epoch - 29ms/step\n",
      "Epoch 15/20\n",
      "422/422 - 12s - loss: 0.0896 - accuracy: 0.9736 - val_loss: 0.0906 - val_accuracy: 0.9742 - 12s/epoch - 29ms/step\n",
      "Epoch 16/20\n",
      "422/422 - 12s - loss: 0.0856 - accuracy: 0.9742 - val_loss: 0.0836 - val_accuracy: 0.9757 - 12s/epoch - 29ms/step\n",
      "Epoch 17/20\n",
      "422/422 - 12s - loss: 0.0834 - accuracy: 0.9753 - val_loss: 0.0871 - val_accuracy: 0.9757 - 12s/epoch - 29ms/step\n",
      "Epoch 18/20\n",
      "422/422 - 12s - loss: 0.0824 - accuracy: 0.9754 - val_loss: 0.0666 - val_accuracy: 0.9782 - 12s/epoch - 28ms/step\n",
      "Epoch 19/20\n",
      "422/422 - 12s - loss: 0.0772 - accuracy: 0.9771 - val_loss: 0.0751 - val_accuracy: 0.9798 - 12s/epoch - 29ms/step\n",
      "Epoch 20/20\n",
      "422/422 - 12s - loss: 0.0746 - accuracy: 0.9771 - val_loss: 0.0782 - val_accuracy: 0.9762 - 12s/epoch - 29ms/step\n",
      "1/1 [==============================] - 1s 667ms/step - loss: 0.0730 - accuracy: 0.9783\n",
      "--- Starting trial: run-2\n",
      "{'filter_size': 5, 'optimizer': 'adam'}\n",
      "Epoch 1/20\n",
      "422/422 - 15s - loss: 0.2394 - accuracy: 0.9315 - val_loss: 0.0830 - val_accuracy: 0.9730 - 15s/epoch - 35ms/step\n",
      "Epoch 2/20\n",
      "422/422 - 13s - loss: 0.0662 - accuracy: 0.9800 - val_loss: 0.0441 - val_accuracy: 0.9860 - 13s/epoch - 31ms/step\n",
      "Epoch 3/20\n",
      "422/422 - 13s - loss: 0.0468 - accuracy: 0.9856 - val_loss: 0.0381 - val_accuracy: 0.9890 - 13s/epoch - 32ms/step\n",
      "Epoch 4/20\n",
      "422/422 - 13s - loss: 0.0373 - accuracy: 0.9886 - val_loss: 0.0301 - val_accuracy: 0.9907 - 13s/epoch - 31ms/step\n",
      "Epoch 5/20\n",
      "422/422 - 13s - loss: 0.0308 - accuracy: 0.9902 - val_loss: 0.0356 - val_accuracy: 0.9882 - 13s/epoch - 31ms/step\n",
      "Epoch 6/20\n",
      "422/422 - 13s - loss: 0.0264 - accuracy: 0.9919 - val_loss: 0.0164 - val_accuracy: 0.9938 - 13s/epoch - 32ms/step\n",
      "Epoch 7/20\n",
      "422/422 - 13s - loss: 0.0218 - accuracy: 0.9934 - val_loss: 0.0192 - val_accuracy: 0.9938 - 13s/epoch - 31ms/step\n",
      "Epoch 8/20\n",
      "422/422 - 13s - loss: 0.0204 - accuracy: 0.9936 - val_loss: 0.0187 - val_accuracy: 0.9937 - 13s/epoch - 31ms/step\n",
      "1/1 [==============================] - 1s 634ms/step - loss: 0.0297 - accuracy: 0.9906\n",
      "--- Starting trial: run-3\n",
      "{'filter_size': 5, 'optimizer': 'sgd'}\n",
      "Epoch 1/20\n",
      "422/422 - 14s - loss: 1.1588 - accuracy: 0.7115 - val_loss: 0.3776 - val_accuracy: 0.8923 - 14s/epoch - 32ms/step\n",
      "Epoch 2/20\n",
      "422/422 - 13s - loss: 0.3158 - accuracy: 0.9088 - val_loss: 0.2542 - val_accuracy: 0.9275 - 13s/epoch - 31ms/step\n",
      "Epoch 3/20\n",
      "422/422 - 13s - loss: 0.2266 - accuracy: 0.9346 - val_loss: 0.2096 - val_accuracy: 0.9417 - 13s/epoch - 31ms/step\n",
      "Epoch 4/20\n",
      "422/422 - 15s - loss: 0.1814 - accuracy: 0.9469 - val_loss: 0.1765 - val_accuracy: 0.9480 - 15s/epoch - 34ms/step\n",
      "Epoch 5/20\n",
      "422/422 - 13s - loss: 0.1551 - accuracy: 0.9551 - val_loss: 0.1390 - val_accuracy: 0.9603 - 13s/epoch - 31ms/step\n",
      "Epoch 6/20\n",
      "422/422 - 13s - loss: 0.1366 - accuracy: 0.9606 - val_loss: 0.1175 - val_accuracy: 0.9658 - 13s/epoch - 31ms/step\n",
      "Epoch 7/20\n",
      "422/422 - 13s - loss: 0.1234 - accuracy: 0.9644 - val_loss: 0.1143 - val_accuracy: 0.9672 - 13s/epoch - 32ms/step\n",
      "Epoch 8/20\n",
      "422/422 - 14s - loss: 0.1135 - accuracy: 0.9668 - val_loss: 0.1085 - val_accuracy: 0.9665 - 14s/epoch - 34ms/step\n",
      "Epoch 9/20\n",
      "422/422 - 13s - loss: 0.1041 - accuracy: 0.9696 - val_loss: 0.1020 - val_accuracy: 0.9685 - 13s/epoch - 31ms/step\n",
      "Epoch 10/20\n",
      "422/422 - 13s - loss: 0.0975 - accuracy: 0.9714 - val_loss: 0.0888 - val_accuracy: 0.9747 - 13s/epoch - 31ms/step\n",
      "Epoch 11/20\n",
      "422/422 - 14s - loss: 0.0911 - accuracy: 0.9730 - val_loss: 0.0859 - val_accuracy: 0.9745 - 14s/epoch - 33ms/step\n",
      "Epoch 12/20\n",
      "422/422 - 14s - loss: 0.0872 - accuracy: 0.9747 - val_loss: 0.0801 - val_accuracy: 0.9775 - 14s/epoch - 32ms/step\n",
      "Epoch 13/20\n",
      "422/422 - 13s - loss: 0.0837 - accuracy: 0.9754 - val_loss: 0.0805 - val_accuracy: 0.9773 - 13s/epoch - 32ms/step\n",
      "Epoch 14/20\n",
      "422/422 - 13s - loss: 0.0782 - accuracy: 0.9773 - val_loss: 0.0876 - val_accuracy: 0.9742 - 13s/epoch - 32ms/step\n",
      "1/1 [==============================] - 1s 688ms/step - loss: 0.0747 - accuracy: 0.9779\n",
      "--- Starting trial: run-4\n",
      "{'filter_size': 7, 'optimizer': 'adam'}\n",
      "Epoch 1/20\n",
      "422/422 - 14s - loss: 0.2506 - accuracy: 0.9287 - val_loss: 0.1005 - val_accuracy: 0.9685 - 14s/epoch - 32ms/step\n",
      "Epoch 2/20\n",
      "422/422 - 13s - loss: 0.0746 - accuracy: 0.9778 - val_loss: 0.0551 - val_accuracy: 0.9855 - 13s/epoch - 30ms/step\n",
      "Epoch 3/20\n",
      "422/422 - 12s - loss: 0.0517 - accuracy: 0.9847 - val_loss: 0.0414 - val_accuracy: 0.9865 - 12s/epoch - 29ms/step\n",
      "Epoch 4/20\n",
      "422/422 - 13s - loss: 0.0407 - accuracy: 0.9876 - val_loss: 0.0350 - val_accuracy: 0.9895 - 13s/epoch - 30ms/step\n",
      "Epoch 5/20\n",
      "422/422 - 13s - loss: 0.0350 - accuracy: 0.9894 - val_loss: 0.0306 - val_accuracy: 0.9905 - 13s/epoch - 31ms/step\n",
      "Epoch 6/20\n",
      "422/422 - 13s - loss: 0.0284 - accuracy: 0.9912 - val_loss: 0.0206 - val_accuracy: 0.9943 - 13s/epoch - 30ms/step\n",
      "Epoch 7/20\n",
      "422/422 - 13s - loss: 0.0233 - accuracy: 0.9928 - val_loss: 0.0160 - val_accuracy: 0.9960 - 13s/epoch - 30ms/step\n",
      "Epoch 8/20\n",
      "422/422 - 13s - loss: 0.0200 - accuracy: 0.9936 - val_loss: 0.0128 - val_accuracy: 0.9957 - 13s/epoch - 30ms/step\n",
      "Epoch 9/20\n",
      "422/422 - 13s - loss: 0.0171 - accuracy: 0.9946 - val_loss: 0.0161 - val_accuracy: 0.9945 - 13s/epoch - 31ms/step\n",
      "Epoch 10/20\n",
      "422/422 - 13s - loss: 0.0140 - accuracy: 0.9961 - val_loss: 0.0097 - val_accuracy: 0.9975 - 13s/epoch - 31ms/step\n",
      "Epoch 11/20\n",
      "422/422 - 12s - loss: 0.0116 - accuracy: 0.9968 - val_loss: 0.0084 - val_accuracy: 0.9977 - 12s/epoch - 30ms/step\n",
      "Epoch 12/20\n",
      "422/422 - 12s - loss: 0.0102 - accuracy: 0.9966 - val_loss: 0.0069 - val_accuracy: 0.9978 - 12s/epoch - 28ms/step\n",
      "Epoch 13/20\n",
      "422/422 - 12s - loss: 0.0081 - accuracy: 0.9974 - val_loss: 0.0060 - val_accuracy: 0.9978 - 12s/epoch - 29ms/step\n",
      "Epoch 14/20\n",
      "422/422 - 14s - loss: 0.0089 - accuracy: 0.9970 - val_loss: 0.0106 - val_accuracy: 0.9960 - 14s/epoch - 33ms/step\n",
      "Epoch 15/20\n",
      "422/422 - 13s - loss: 0.0070 - accuracy: 0.9978 - val_loss: 0.0038 - val_accuracy: 0.9987 - 13s/epoch - 30ms/step\n",
      "Epoch 16/20\n",
      "422/422 - 13s - loss: 0.0078 - accuracy: 0.9973 - val_loss: 0.0064 - val_accuracy: 0.9975 - 13s/epoch - 30ms/step\n",
      "Epoch 17/20\n",
      "422/422 - 13s - loss: 0.0058 - accuracy: 0.9981 - val_loss: 0.0058 - val_accuracy: 0.9982 - 13s/epoch - 32ms/step\n",
      "1/1 [==============================] - 1s 602ms/step - loss: 0.0342 - accuracy: 0.9903\n",
      "--- Starting trial: run-5\n",
      "{'filter_size': 7, 'optimizer': 'sgd'}\n",
      "Epoch 1/20\n",
      "422/422 - 13s - loss: 1.0391 - accuracy: 0.7531 - val_loss: 0.4196 - val_accuracy: 0.8782 - 13s/epoch - 31ms/step\n",
      "Epoch 2/20\n",
      "422/422 - 14s - loss: 0.3390 - accuracy: 0.9034 - val_loss: 0.2724 - val_accuracy: 0.9205 - 14s/epoch - 32ms/step\n",
      "Epoch 3/20\n",
      "422/422 - 13s - loss: 0.2597 - accuracy: 0.9249 - val_loss: 0.2339 - val_accuracy: 0.9340 - 13s/epoch - 30ms/step\n",
      "Epoch 4/20\n",
      "422/422 - 12s - loss: 0.2145 - accuracy: 0.9375 - val_loss: 0.2359 - val_accuracy: 0.9247 - 12s/epoch - 28ms/step\n",
      "Epoch 5/20\n",
      "422/422 - 12s - loss: 0.1825 - accuracy: 0.9469 - val_loss: 0.1726 - val_accuracy: 0.9508 - 12s/epoch - 28ms/step\n",
      "Epoch 6/20\n",
      "422/422 - 12s - loss: 0.1603 - accuracy: 0.9534 - val_loss: 0.1481 - val_accuracy: 0.9583 - 12s/epoch - 28ms/step\n",
      "Epoch 7/20\n",
      "422/422 - 12s - loss: 0.1459 - accuracy: 0.9575 - val_loss: 0.1328 - val_accuracy: 0.9627 - 12s/epoch - 28ms/step\n",
      "Epoch 8/20\n",
      "422/422 - 12s - loss: 0.1322 - accuracy: 0.9616 - val_loss: 0.1167 - val_accuracy: 0.9657 - 12s/epoch - 28ms/step\n",
      "Epoch 9/20\n",
      "422/422 - 12s - loss: 0.1224 - accuracy: 0.9649 - val_loss: 0.1184 - val_accuracy: 0.9648 - 12s/epoch - 28ms/step\n",
      "Epoch 10/20\n",
      "422/422 - 12s - loss: 0.1141 - accuracy: 0.9669 - val_loss: 0.1192 - val_accuracy: 0.9680 - 12s/epoch - 28ms/step\n",
      "1/1 [==============================] - 1s 579ms/step - loss: 0.1188 - accuracy: 0.9654\n"
     ]
    }
   ],
   "source": [
    "# Performing a grid search on the hyperparameters we need to test\n",
    "session_num = 0\n",
    "\n",
    "for filter_size in HP_FILTER_SIZE.domain.values:\n",
    "    for optimizer in HP_OPTIMIZER.domain.values:\n",
    "    \n",
    "        hparams = {\n",
    "            HP_FILTER_SIZE: filter_size,\n",
    "            HP_OPTIMIZER: optimizer\n",
    "        }\n",
    "        run_name = \"run-%d\" % session_num\n",
    "        print('--- Starting trial: %s' % run_name)\n",
    "        print({h.name: hparams[h] for h in hparams})\n",
    "        run('logs/hparam_tuning/' + run_name, hparams)\n",
    "\n",
    "        session_num += 1"
   ]
  },
  {
   "cell_type": "code",
   "execution_count": 16,
   "metadata": {},
   "outputs": [],
   "source": [
    "import os\n",
    "os.environ['TENSORBOARD_BINARY'] = 'C:\\\\Users\\\\muham\\\\AppData\\\\Local\\\\Packages\\\\PythonSoftwareFoundation.Python.3.11_qbz5n2kfra8p0\\\\LocalCache\\\\local-packages\\\\Python311\\\\site-packages'"
   ]
  },
  {
   "cell_type": "code",
   "execution_count": 17,
   "metadata": {},
   "outputs": [],
   "source": [
    "alias tensorboard='python3 -m tensorboard.main'"
   ]
  },
  {
   "cell_type": "markdown",
   "metadata": {},
   "source": [
    "## Visualizing the hyperparameter results with Tensorboard"
   ]
  },
  {
   "cell_type": "code",
   "execution_count": 18,
   "metadata": {},
   "outputs": [],
   "source": [
    "# Loading the Tensorboard extension\n",
    "%load_ext tensorboard\n"
   ]
  },
  {
   "cell_type": "code",
   "execution_count": 19,
   "metadata": {},
   "outputs": [],
   "source": [
    "%reload_ext tensorboard"
   ]
  },
  {
   "cell_type": "code",
   "execution_count": 20,
   "metadata": {},
   "outputs": [
    {
     "data": {
      "text/plain": [
       "ERROR: Failed to start 'C:\\\\Users\\\\muham\\\\AppData\\\\Local\\\\Packages\\\\Py\n",
       "thonSoftwareFoundation.Python.3.11_qbz5n2kfra8p0\\\\LocalCache\\\\local-\n",
       "packages\\\\Python311\\\\site-packages' (set by the `TENSORBOARD_BINARY`\n",
       "environment variable): [WinError 5] Access is denied"
      ]
     },
     "metadata": {},
     "output_type": "display_data"
    }
   ],
   "source": [
    "%tensorboard --logdir \"logs/hparam_tuning\""
   ]
  },
  {
   "cell_type": "code",
   "execution_count": 21,
   "metadata": {},
   "outputs": [
    {
     "name": "stderr",
     "output_type": "stream",
     "text": [
      "UsageError: Line magic function `%locate` not found.\n"
     ]
    }
   ],
   "source": [
    "%locate tensorboard"
   ]
  },
  {
   "cell_type": "code",
   "execution_count": null,
   "metadata": {},
   "outputs": [],
   "source": []
  }
 ],
 "metadata": {
  "colab": {
   "collapsed_sections": [],
   "name": "defaultNotebook.ipynb",
   "provenance": [],
   "version": "0.3.2"
  },
  "kernelspec": {
   "display_name": "Python 3 (ipykernel)",
   "language": "python",
   "name": "python3"
  },
  "language_info": {
   "codemirror_mode": {
    "name": "ipython",
    "version": 3
   },
   "file_extension": ".py",
   "mimetype": "text/x-python",
   "name": "python",
   "nbconvert_exporter": "python",
   "pygments_lexer": "ipython3",
   "version": "3.11.8"
  }
 },
 "nbformat": 4,
 "nbformat_minor": 4
}
